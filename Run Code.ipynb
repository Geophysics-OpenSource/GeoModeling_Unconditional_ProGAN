{
 "cells": [
  {
   "cell_type": "code",
   "execution_count": 1,
   "metadata": {},
   "outputs": [
    {
     "name": "stdout",
     "output_type": "stream",
     "text": [
      "/home/users/suihong/1-Unconditional_Upload\n"
     ]
    }
   ],
   "source": [
    "%cd /home/users/suihong/1-Unconditional_Upload/"
   ]
  },
  {
   "cell_type": "code",
   "execution_count": 2,
   "metadata": {
    "scrolled": false
   },
   "outputs": [
    {
     "name": "stdout",
     "output_type": "stream",
     "text": [
      "Initializing TensorFlow...\n",
      "Running util_scripts.evaluate_metrics_swd_distributions_training_trad_prog()...\n",
      "Logging output to /scratch/users/suihong/ProGAN_MultiChannel_Reusults_ConditionedtoMultiConditions_TF/881-Unconditional_trad/metric-swd_distri_training_trad_prog-40.txt\n",
      "Streaming data using dataset.TFRecordDataset...\n",
      "Dataset shape = [1, 64, 64]\n",
      "Dynamic range = [0, 255]\n",
      "Label size    = 0\n",
      "Initializing metrics.swd_distributions_training_trad_prog.API...\n"
     ]
    },
    {
     "name": "stderr",
     "output_type": "stream",
     "text": [
      "/home/users/suihong/1-Unconditional_Upload/metrics/swd_distributions_training_trad_prog.py:187: UserWarning: The following kwargs were not used by contour: 'label'\n",
      "  real_contr = axes[1].contour(xi_real, yi_real, zi_real.reshape(xi_real.shape), 6, colors='r', label = 'Training')\n",
      "/home/users/suihong/1-Unconditional_Upload/metrics/swd_distributions_training_trad_prog.py:192: UserWarning: The following kwargs were not used by contour: 'label'\n",
      "  fake_contr_trad = axes[1].contour(xi_fake_trad, yi_fake_trad, zi_fake_trad.reshape(xi_fake_trad.shape), 5, colors='blue',  linestyles= 'dashed', label = 'Conventional')\n",
      "/home/users/suihong/1-Unconditional_Upload/metrics/swd_distributions_training_trad_prog.py:197: UserWarning: The following kwargs were not used by contour: 'label'\n",
      "  fake_contr_prog = axes[1].contour(xi_fake_prog, yi_fake_prog, zi_fake_prog.reshape(xi_fake_prog.shape), 5, colors='k', linestyles ='dashdot', label = 'Progressive')\n"
     ]
    },
    {
     "name": "stdout",
     "output_type": "stream",
     "text": [
      "Exiting...\n"
     ]
    }
   ],
   "source": [
    "% run train.py"
   ]
  },
  {
   "cell_type": "code",
   "execution_count": null,
   "metadata": {
    "collapsed": true
   },
   "outputs": [],
   "source": []
  }
 ],
 "metadata": {
  "kernelspec": {
   "display_name": "Python 3",
   "language": "python",
   "name": "python3"
  },
  "language_info": {
   "codemirror_mode": {
    "name": "ipython",
    "version": 3
   },
   "file_extension": ".py",
   "mimetype": "text/x-python",
   "name": "python",
   "nbconvert_exporter": "python",
   "pygments_lexer": "ipython3",
   "version": "3.6.1"
  }
 },
 "nbformat": 4,
 "nbformat_minor": 2
}
